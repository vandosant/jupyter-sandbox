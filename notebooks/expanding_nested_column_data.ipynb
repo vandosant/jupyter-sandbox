{
 "cells": [
  {
   "cell_type": "code",
   "execution_count": null,
   "metadata": {},
   "outputs": [],
   "source": [
    "import pandas as pd\n",
    "import datetime as dt"
   ]
  },
  {
   "cell_type": "code",
   "execution_count": null,
   "metadata": {},
   "outputs": [],
   "source": [
    "df_nested = pd.DataFrame({'listOfThings': [[1,2],[3,4],[5,6]],'category': ['a','b','a'], 'additionalData': ['lorem', 'ipsum', 'dolor']})"
   ]
  },
  {
   "cell_type": "code",
   "execution_count": null,
   "metadata": {},
   "outputs": [],
   "source": [
    "df_nested"
   ]
  },
  {
   "cell_type": "code",
   "execution_count": null,
   "metadata": {},
   "outputs": [],
   "source": [
    "df_expanded = pd.DataFrame(df_nested.listOfThings.tolist(), index=[df_nested.category]) \\\n",
    "  .stack() \\\n",
    "  .reset_index(level=1, drop=True) \\\n",
    "  .reset_index(name='listOfThings') \\\n",
    "  .rename(index=str, columns={'listOfThings': 'thing'}) \\\n",
    "  .merge(df_nested, on='category')"
   ]
  },
  {
   "cell_type": "code",
   "execution_count": null,
   "metadata": {},
   "outputs": [],
   "source": [
    "df_expanded"
   ]
  }
 ],
 "metadata": {
  "kernelspec": {
   "display_name": "Python 3",
   "language": "python",
   "name": "python3"
  },
  "language_info": {
   "codemirror_mode": {
    "name": "ipython",
    "version": 3
   },
   "file_extension": ".py",
   "mimetype": "text/x-python",
   "name": "python",
   "nbconvert_exporter": "python",
   "pygments_lexer": "ipython3",
   "version": "3.7.1"
  }
 },
 "nbformat": 4,
 "nbformat_minor": 2
}
